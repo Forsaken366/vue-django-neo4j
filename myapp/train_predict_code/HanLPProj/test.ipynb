{
 "metadata": {
  "language_info": {
   "codemirror_mode": {
    "name": "ipython",
    "version": 3
   },
   "file_extension": ".py",
   "mimetype": "text/x-python",
   "name": "python",
   "nbconvert_exporter": "python",
   "pygments_lexer": "ipython3",
   "version": "3.8.11"
  },
  "orig_nbformat": 4,
  "kernelspec": {
   "name": "python3",
   "display_name": "Python 3.8.11 64-bit"
  },
  "interpreter": {
   "hash": "d02a8bccd6b6ef64580a3afac04ceefdd3aab8be3bbb790b1cd8a7203cdbc30a"
  }
 },
 "nbformat": 4,
 "nbformat_minor": 2,
 "cells": [
  {
   "cell_type": "code",
   "execution_count": 9,
   "source": [
    "import hanlp\n",
    "from hanlp.components.mtl.multi_task_learning import MultiTaskLearning\n",
    "from hanlp.components.mtl.tasks.tok.tag_tok import TaggingTokenization\n",
    "# from tests import cdroot\n",
    "\n",
    "\n",
    "HanLP: MultiTaskLearning = hanlp.load(hanlp.pretrained.mtl.CLOSE_TOK_POS_NER_SRL_DEP_SDP_CON_ELECTRA_SMALL_ZH)\n",
    "tok: TaggingTokenization = HanLP['tok/fine']\n",
    "\n",
    "# tok.dict_force = tok.dict_combine = None\n",
    "# print(f'不挂词典:\\n{HanLP(\"商品和服务行业\")[\"tok/fine\"]}')\n",
    "#\n",
    "tok.dict_force = {'宾利添越v8', '宾利添越V8'}\n",
    "print(f'强制模式:\\n{HanLP(\"2020年10月25日至2020年11月30日期间生产的部分进口2021年款宾利添越V8汽车，共计7台。\")[\"tok/fine\"]}') \n",
    "\n",
    "#召回2020年10月25日至2020年11月30日期间生产的部分进口2021年款宾利添越V8汽车，共计7台。\n",
    "# tok.dict_force = {'和服务': ['和', '服务']}\n",
    "# print(f'强制校正:\\n{HanLP(\"正向匹配商品和服务、任何和服务必按上述切分\")[\"tok/fine\"]}')\n",
    "\n",
    "# tok.dict_force = None\n",
    "# tok.dict_combine = {'和服', '服务行业'}\n",
    "# print(f'合并模式:\\n{HanLP(\"商品和服务行业\")[\"tok/fine\"]}')\n"
   ],
   "outputs": [
    {
     "output_type": "stream",
     "name": "stderr",
     "text": []
    },
    {
     "output_type": "stream",
     "name": "stdout",
     "text": [
      "强制模式:\n",
      "['2020年', '10月', '25', '日', '至', '2020年', '11月', '30日', '期间', '生产', '的', '部分', '进口', '2021年', '款', '宾利添越V8', '汽车', '，', '共计', '7', '台', '。']\n"
     ]
    }
   ],
   "metadata": {}
  },
  {
   "cell_type": "code",
   "execution_count": 8,
   "source": [
    "import hanlp\n",
    "\n",
    "ner_lp = hanlp.load(hanlp.pretrained.mtl.CLOSE_TOK_POS_NER_SRL_DEP_SDP_CON_ELECTRA_BASE_ZH)\n",
    "ner_lp['ner/msra'].dict_whitelist = {'午饭后': 'TIME'}\n",
    "doc = ner_lp('2021年测试高血压是138，时间是午饭后2点45，低血压是44，重庆库伯科技有限公司', tasks='ner/msra')\n",
    "doc.pretty_print()\n",
    "print(doc['ner/msra'])"
   ],
   "outputs": [
    {
     "output_type": "stream",
     "name": "stderr",
     "text": []
    },
    {
     "output_type": "display_data",
     "data": {
      "text/html": [
       "<div style=\"display: table; line-height: 128%;\"><pre style=\"display: table-cell; font-family: SFMono-Regular,Menlo,Monaco,Consolas,Liberation Mono,Courier New,monospace; white-space: nowrap;\">Tok&nbsp;&nbsp;&nbsp;<br>─────&nbsp;<br>2021年&nbsp;<br>测试&nbsp;&nbsp;&nbsp;&nbsp;<br>高血压&nbsp;&nbsp;&nbsp;<br>是&nbsp;&nbsp;&nbsp;&nbsp;&nbsp;<br>138&nbsp;&nbsp;&nbsp;<br>，&nbsp;&nbsp;&nbsp;&nbsp;&nbsp;<br>时间&nbsp;&nbsp;&nbsp;&nbsp;<br>是&nbsp;&nbsp;&nbsp;&nbsp;&nbsp;<br>午饭&nbsp;&nbsp;&nbsp;&nbsp;<br>后&nbsp;&nbsp;&nbsp;&nbsp;&nbsp;<br>2点45&nbsp;&nbsp;<br>，&nbsp;&nbsp;&nbsp;&nbsp;&nbsp;<br>低血压&nbsp;&nbsp;&nbsp;<br>是&nbsp;&nbsp;&nbsp;&nbsp;&nbsp;<br>44&nbsp;&nbsp;&nbsp;&nbsp;</pre><pre style=\"display: table-cell; font-family: SFMono-Regular,Menlo,Monaco,Consolas,Liberation Mono,Courier New,monospace; white-space: nowrap;\">NER&nbsp;Type&nbsp;&nbsp;&nbsp;<br>───────────<br>───►DATE&nbsp;&nbsp;&nbsp;<br>&nbsp;&nbsp;&nbsp;&nbsp;&nbsp;&nbsp;&nbsp;&nbsp;&nbsp;&nbsp;&nbsp;<br>&nbsp;&nbsp;&nbsp;&nbsp;&nbsp;&nbsp;&nbsp;&nbsp;&nbsp;&nbsp;&nbsp;<br>&nbsp;&nbsp;&nbsp;&nbsp;&nbsp;&nbsp;&nbsp;&nbsp;&nbsp;&nbsp;&nbsp;<br>───►INTEGER<br>&nbsp;&nbsp;&nbsp;&nbsp;&nbsp;&nbsp;&nbsp;&nbsp;&nbsp;&nbsp;&nbsp;<br>&nbsp;&nbsp;&nbsp;&nbsp;&nbsp;&nbsp;&nbsp;&nbsp;&nbsp;&nbsp;&nbsp;<br>&nbsp;&nbsp;&nbsp;&nbsp;&nbsp;&nbsp;&nbsp;&nbsp;&nbsp;&nbsp;&nbsp;<br>───►TIME&nbsp;&nbsp;&nbsp;<br>&nbsp;&nbsp;&nbsp;&nbsp;&nbsp;&nbsp;&nbsp;&nbsp;&nbsp;&nbsp;&nbsp;<br>───►TIME&nbsp;&nbsp;&nbsp;<br>&nbsp;&nbsp;&nbsp;&nbsp;&nbsp;&nbsp;&nbsp;&nbsp;&nbsp;&nbsp;&nbsp;<br>&nbsp;&nbsp;&nbsp;&nbsp;&nbsp;&nbsp;&nbsp;&nbsp;&nbsp;&nbsp;&nbsp;<br>&nbsp;&nbsp;&nbsp;&nbsp;&nbsp;&nbsp;&nbsp;&nbsp;&nbsp;&nbsp;&nbsp;<br>───►INTEGER</pre></div>"
      ],
      "text/plain": [
       "<IPython.core.display.HTML object>"
      ]
     },
     "metadata": {}
    },
    {
     "output_type": "stream",
     "name": "stdout",
     "text": [
      "[('2021年', 'DATE', 0, 1), ('138', 'INTEGER', 4, 5), ('午饭', 'TIME', 8, 9), ('2点45', 'TIME', 10, 11), ('44', 'INTEGER', 14, 15)]\n"
     ]
    }
   ],
   "metadata": {}
  },
  {
   "cell_type": "code",
   "execution_count": null,
   "source": [
    "from hanlp_restful import HanLPClient\n",
    "HanLP = HanLPClient('https://www.hanlp.com/api', auth=None, language='zh') # auth不填则匿名，zh中文，mul多语种\n",
    "\n",
    "res_par = HanLP.parse(content[4], tasks=['tok','ner']).to_dict()\n",
    "print(res_par['ner/msra'])"
   ],
   "outputs": [],
   "metadata": {}
  },
  {
   "cell_type": "code",
   "execution_count": null,
   "source": [
    "import hanlp\n",
    "HanLP = hanlp.load(hanlp.pretrained.tok.COARSE_ELECTRA_SMALL_ZH) # 世界最大中文语料库\n",
    "print(HanLP('重庆库铂科技有限公司按照《消费品召回管理暂行规定》的要求，向重庆市市场监督管理局报告了召回计划， \\\n",
    "    将自即日起，召回2020年8月和11月期间制造的型号为CP-2017、CP-2019、CQ-2007V的自吸过滤式防颗粒呼吸器，涉及数量共计318盒', tasks='tok'))\n",
    "# HanLP.parse(\"2021年HanLPv2.1为生产环境带来次世代最先进的多语种NLP技术。阿婆主来到北京立方庭参观自然语义科技公司。\")\n",
    "\n",
    "CTBlp = hanlp.load(hanlp.pretrained.tok.CTB6_CONVSEG)\n",
    "print(CTBlp('重庆库铂科技有限公司按照《消费品召回管理暂行规定》的要求，向重庆市市场监督管理局报告了召回计划， \\\n",
    "    将自即日起，召回2020年8月和11月期间制造的型号为CP-2017、CP-2019、CQ-2007V的自吸过滤式防颗粒呼吸器，涉及数量共计318盒', tasks='tok'))"
   ],
   "outputs": [],
   "metadata": {}
  },
  {
   "cell_type": "code",
   "execution_count": 1,
   "source": [
    "import re\n",
    "item_dict = {}\n",
    "content = '召回2020年8月和11月期间制造的型号为CP-2017、CP-2019、CQ-2007V的自吸过滤式防颗粒呼吸器，东风汽车奥迪汽车'\n",
    "F_GoodsName = r'D:\\Documents\\SICC-Group\\riskEstimation\\code\\HanLPProj\\dicts\\All_Goods'\n",
    "with open(F_GoodsName, 'r', encoding='utf-8') as f:\n",
    "    # line = f.readline()\n",
    "    i = 1\n",
    "    for line in f.readlines():\n",
    "        if i < 3:\n",
    "            print(line)\n",
    "        i += 1\n",
    "f.close()"
   ],
   "outputs": [
    {
     "output_type": "stream",
     "name": "stdout",
     "text": [
      "唯本生活牌加厚保鲜袋\n",
      "\n",
      "密胺碗\n",
      "\n"
     ]
    }
   ],
   "metadata": {}
  }
 ]
}