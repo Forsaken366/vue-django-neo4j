{
 "cells": [
  {
   "cell_type": "code",
   "execution_count": 1,
   "source": [
    "import re\n",
    "import hanlp\n",
    "import numpy as np\n",
    "import src.clean_data as cl\n",
    "\n",
    "car_dic = 'D:\\\\Project\\\\NLP\\\\HanLPProj\\\\dicts\\\\full_car.txt'\n",
    "car_diclib = 'D:\\\\Project\\\\NLP\\\\Data\\\\wordlib\\\\car_dict.txt'\n",
    "tmp_path = 'D:\\\\Project\\\\NLP\\\\HanLPProj\\\\data\\\\tmp_content'"
   ],
   "outputs": [],
   "metadata": {}
  },
  {
   "cell_type": "code",
   "execution_count": 6,
   "source": [
    "# cesTok = hanlp.load(hanlp.pretrained.tok.COARSE_ELECTRA_SMALL_ZH) # 世界最大中文语料库\n",
    "# content = cl.get_sentence(tmp_path)\n",
    "# split_sent = hanlp.load(hanlp.pretrained.eos.UD_CTB_EOS_MUL)\n",
    "# sentences = split_sent(content[15])\n",
    "# print('\\n'.join(sentences))"
   ],
   "outputs": [],
   "metadata": {}
  },
  {
   "cell_type": "code",
   "execution_count": 7,
   "source": [
    "# cus_dicpath = 'D:\\\\Project\\\\NLP\\\\HanLPProj\\\\dicts\\\\full_car.txt'\n",
    "goods_csv = 'D:\\\\Project\\\\NLP\\\\HanLPProj\\\\data\\\\消费品召回1.csv'\n",
    "new_goods_csv = 'D:\\\\Project\\\\NLP\\\\HanLPProj\\\\data\\\\消费品召回1_new.csv'\n",
    "goods_dicpath = 'D:\\\\Project\\\\NLP\\\\HanLPProj\\\\dicts\\\\all_goods'\n",
    "goods_dic = cl.clean_csv(goods_csv, new_goods_csv, True, items='召回产品')\n",
    "cl.DicttoFile(goods_dicpath, goods_dic)"
   ],
   "outputs": [],
   "metadata": {}
  },
  {
   "cell_type": "code",
   "execution_count": 4,
   "source": [
    "cl.DicttoFile(tmp_path, cl.get_sentence(goods_csv))"
   ],
   "outputs": [],
   "metadata": {}
  },
  {
   "cell_type": "code",
   "execution_count": 8,
   "source": [
    "temp_data = cl.get_sentence(goods_csv)"
   ],
   "outputs": [],
   "metadata": {}
  },
  {
   "cell_type": "code",
   "execution_count": 19,
   "source": [
    "import pandas as pd\n",
    "a = [{1:2, 2:4}, {1: 3, 2:5}]\n",
    "p = pd.DataFrame(a)\n",
    "p.to_csv('D:\\\\Project\\\\NLP\\\\HanLPProj\\\\data\\\\tmp')"
   ],
   "outputs": [
    {
     "output_type": "execute_result",
     "data": {
      "text/plain": [
       "   1  2\n",
       "0  2  4\n",
       "1  3  5"
      ],
      "text/html": [
       "<div>\n",
       "<style scoped>\n",
       "    .dataframe tbody tr th:only-of-type {\n",
       "        vertical-align: middle;\n",
       "    }\n",
       "\n",
       "    .dataframe tbody tr th {\n",
       "        vertical-align: top;\n",
       "    }\n",
       "\n",
       "    .dataframe thead th {\n",
       "        text-align: right;\n",
       "    }\n",
       "</style>\n",
       "<table border=\"1\" class=\"dataframe\">\n",
       "  <thead>\n",
       "    <tr style=\"text-align: right;\">\n",
       "      <th></th>\n",
       "      <th>1</th>\n",
       "      <th>2</th>\n",
       "    </tr>\n",
       "  </thead>\n",
       "  <tbody>\n",
       "    <tr>\n",
       "      <th>0</th>\n",
       "      <td>2</td>\n",
       "      <td>4</td>\n",
       "    </tr>\n",
       "    <tr>\n",
       "      <th>1</th>\n",
       "      <td>3</td>\n",
       "      <td>5</td>\n",
       "    </tr>\n",
       "  </tbody>\n",
       "</table>\n",
       "</div>"
      ]
     },
     "metadata": {},
     "execution_count": 19
    }
   ],
   "metadata": {}
  },
  {
   "cell_type": "code",
   "execution_count": 9,
   "source": [
    "temp_data[12]"
   ],
   "outputs": [
    {
     "output_type": "execute_result",
     "data": {
      "text/plain": [
       "'南宁市玉龙泡沫制品厂按照《消费品召回管理暂行规定》的要求，主动向广西壮族自治区市场监督管理局报告了召回计划，将自即日起，召回生产批号/批次为2020-04-05、规格为100只装170ml的井甜加厚航空杯产品，涉及数量为780袋。 本次召回范围内的井甜加厚航空杯产品在盛装了一定量的液体之后会出现较大变形甚至倒塌，导致消费者在使用过程中将难以拿捏住，手握时易变形，如盛装热水，可能会造成烫伤，存在安全隐患。对于召回范围内的井甜加厚航空杯产品，南宁市玉龙泡沫制品厂将积极落实企业主体责任，开展缺陷产品召回、安全技术改进工作，提升产品安全水平，并为客户免费退货，以消除安全隐患。 南宁市玉龙泡沫制品厂已通知销售商停止销售该批产品，并在销售门店张贴召回公告，提示持有受影响产品的消费者停止使用该产品，并联系南宁市玉龙泡沫制品厂进行免费退换货，'"
      ]
     },
     "metadata": {},
     "execution_count": 9
    }
   ],
   "metadata": {}
  },
  {
   "cell_type": "code",
   "execution_count": 2,
   "source": [
    "# from src.item_match import Item_data as its\n",
    "# print(1)\n",
    "re_test = ('规格为100只装170ml的井笔帽甜加厚航空杯尖角产明火 高低温表面 低品，涉及数量为780袋。 有毒醛类 本臭氧， 铬 镉次召回范围内的井甜加厚航空杯产品在盛装了一定量的液体之后会出现较大变形甚至倒塌，导致消费者在使用过程中将难以拿捏住，手握时易变形，如盛装热水，可能会造成烫伤，存在安全隐患，尘螨，，蛔虫卵。。绦虫卵。。。')\n",
    "\n",
    "jsc = ('尘螨', '蛔(?:虫卵)?', '绦虫卵')\n",
    "_jsc = ('其他寄生虫', '其它寄生虫', '其她寄生虫')\n",
    "_is_jsc = re.compile('|'.join(jsc))\n",
    "_is_jsc_ = re.compile('|'.join(_jsc))\n",
    "\n",
    "ydq = ('甲醛', '乙醛', '丙烯醛')\n",
    "ydq_et = '(?:其[她它他])?有毒醛类?'\n",
    "_is_ydq = re.compile('|'.join(ydq))\n",
    "_is_ydq_et = re.compile(ydq_et)\n",
    "_is_ydq_et.search(re_test)\n",
    "# for _ in jsc:\n",
    "#     i = 1 if _ in _is_jsc.findall(re_test) else 0\n",
    "# _is_jsc.findall(re_test)\n",
    "# if _is_jsc_.findall(re_test)\n",
    "# _is_ghbm\n",
    "# i"
   ],
   "outputs": [
    {
     "output_type": "execute_result",
     "data": {
      "text/plain": [
       "<re.Match object; span=(49, 53), match='有毒醛类'>"
      ]
     },
     "metadata": {},
     "execution_count": 2
    }
   ],
   "metadata": {}
  },
  {
   "cell_type": "code",
   "execution_count": 13,
   "source": [
    "from src.item_match import Item_data as itsss\n"
   ],
   "outputs": [],
   "metadata": {}
  },
  {
   "cell_type": "code",
   "execution_count": 14,
   "source": [
    "\n",
    "item = itsss(1)\n",
    "item.bool_match(re_test)\n",
    "item.value_match(re_test)\n",
    "item.chemistry(re_test)\n",
    "item.physic_damage(re_test)\n",
    "item.item_dict"
   ],
   "outputs": [
    {
     "output_type": "error",
     "ename": "KeyError",
     "evalue": "'消费品伤害类型'",
     "traceback": [
      "\u001b[1;31m---------------------------------------------------------------------------\u001b[0m",
      "\u001b[1;31mKeyError\u001b[0m                                  Traceback (most recent call last)",
      "\u001b[1;32m<ipython-input-14-7d188aa16743>\u001b[0m in \u001b[0;36m<module>\u001b[1;34m\u001b[0m\n\u001b[0;32m      3\u001b[0m \u001b[0mitem\u001b[0m\u001b[1;33m.\u001b[0m\u001b[0mvalue_match\u001b[0m\u001b[1;33m(\u001b[0m\u001b[0mre_test\u001b[0m\u001b[1;33m)\u001b[0m\u001b[1;33m\u001b[0m\u001b[1;33m\u001b[0m\u001b[0m\n\u001b[0;32m      4\u001b[0m \u001b[0mitem\u001b[0m\u001b[1;33m.\u001b[0m\u001b[0mchemistry\u001b[0m\u001b[1;33m(\u001b[0m\u001b[0mre_test\u001b[0m\u001b[1;33m)\u001b[0m\u001b[1;33m\u001b[0m\u001b[1;33m\u001b[0m\u001b[0m\n\u001b[1;32m----> 5\u001b[1;33m \u001b[0mitem\u001b[0m\u001b[1;33m.\u001b[0m\u001b[0mphysic_damage\u001b[0m\u001b[1;33m(\u001b[0m\u001b[0mre_test\u001b[0m\u001b[1;33m)\u001b[0m\u001b[1;33m\u001b[0m\u001b[1;33m\u001b[0m\u001b[0m\n\u001b[0m\u001b[0;32m      6\u001b[0m \u001b[0mitem\u001b[0m\u001b[1;33m.\u001b[0m\u001b[0mitem_dict\u001b[0m\u001b[1;33m\u001b[0m\u001b[1;33m\u001b[0m\u001b[0m\n",
      "\u001b[1;32md:\\Project\\NLP\\HanLPProj\\src\\item_match.py\u001b[0m in \u001b[0;36mphysic_damage\u001b[1;34m(self, content)\u001b[0m\n\u001b[0;32m    232\u001b[0m         \u001b[0mself\u001b[0m\u001b[1;33m.\u001b[0m\u001b[0mitem_dict\u001b[0m\u001b[1;33m[\u001b[0m\u001b[1;34m'辐射'\u001b[0m\u001b[1;33m]\u001b[0m \u001b[1;33m=\u001b[0m \u001b[1;36m1\u001b[0m \u001b[1;32mif\u001b[0m \u001b[0mre\u001b[0m\u001b[1;33m.\u001b[0m\u001b[0msearch\u001b[0m\u001b[1;33m(\u001b[0m\u001b[1;34mr'辐射'\u001b[0m\u001b[1;33m,\u001b[0m \u001b[0mcontent\u001b[0m\u001b[1;33m)\u001b[0m \u001b[1;32melse\u001b[0m \u001b[1;36m0\u001b[0m\u001b[1;33m\u001b[0m\u001b[1;33m\u001b[0m\u001b[0m\n\u001b[0;32m    233\u001b[0m \u001b[1;33m\u001b[0m\u001b[0m\n\u001b[1;32m--> 234\u001b[1;33m         \u001b[0m_sem\u001b[0m \u001b[1;33m=\u001b[0m \u001b[0mre\u001b[0m\u001b[1;33m.\u001b[0m\u001b[0mcompile\u001b[0m\u001b[1;33m(\u001b[0m\u001b[1;34mr'湿度[为有a-zA-Z]{0,2}([0-9.]{0,4})(%rh)?'\u001b[0m\u001b[1;33m,\u001b[0m \u001b[0mre\u001b[0m\u001b[1;33m.\u001b[0m\u001b[0mI\u001b[0m\u001b[1;33m)\u001b[0m\u001b[1;33m\u001b[0m\u001b[1;33m\u001b[0m\u001b[0m\n\u001b[0m\u001b[0;32m    235\u001b[0m         \u001b[0mself\u001b[0m\u001b[1;33m.\u001b[0m\u001b[0mitem_dict\u001b[0m\u001b[1;33m[\u001b[0m\u001b[1;34m'湿度'\u001b[0m\u001b[1;33m]\u001b[0m \u001b[1;33m=\u001b[0m \u001b[0m_\u001b[0m\u001b[1;33m.\u001b[0m\u001b[0mgroup\u001b[0m\u001b[1;33m(\u001b[0m\u001b[1;36m1\u001b[0m\u001b[1;33m)\u001b[0m \u001b[1;32mif\u001b[0m \u001b[1;33m(\u001b[0m\u001b[0m_\u001b[0m \u001b[1;33m:=\u001b[0m \u001b[0m_sem\u001b[0m\u001b[1;33m.\u001b[0m\u001b[0msearch\u001b[0m\u001b[1;33m(\u001b[0m\u001b[0mcontent\u001b[0m\u001b[1;33m)\u001b[0m\u001b[1;33m)\u001b[0m \u001b[1;33m!=\u001b[0m \u001b[1;32mNone\u001b[0m \u001b[1;32melse\u001b[0m \u001b[1;32mNone\u001b[0m\u001b[1;33m\u001b[0m\u001b[1;33m\u001b[0m\u001b[0m\n\u001b[0;32m    236\u001b[0m \u001b[1;33m\u001b[0m\u001b[0m\n",
      "\u001b[1;31mKeyError\u001b[0m: '消费品伤害类型'"
     ]
    }
   ],
   "metadata": {}
  },
  {
   "cell_type": "code",
   "execution_count": 15,
   "source": [
    "def value_match(content):\n",
    "    _sex = re.compile(r'(年龄|年纪)?[为|有]?([0-9]{0,3})[岁]')\n",
    "\n",
    "    _sex_nv = re.compile(r'女士?|女性?')\n",
    "    _sex_nan = re.compile(r'男士?|男性?')\n",
    "    _sex = '女' if len(_sex_nv.findall(content)) > len(_sex_nan.findall(content)) else '男'\n",
    "    print('性别：',_sex)\n",
    "\n",
    "    # '''温度可优化'''\n",
    "    _tem = re.compile(r'温度[为有a-zA-Z]{0,2}([0-9.]{0,4})[华摄氏度°]')\n",
    "    print('温度：', _.group(1) if (_ := _tem.search(content)) != None  else None)\n",
    "\n",
    "    _sem = re.compile(r'湿度[为有a-zA-Z]{0,2}([0-9.]{0,4})(%rh)', re.I)\n",
    "    # self.item_data['温度] = _.group(1) if (_ := _tem.search(content)) != None else None\n",
    "    print('湿度：', _.group(1) if (_ := _sem.search(content)) != None  else None)\n",
    "\n",
    "\n",
    "\n",
    "value_match('近日，记者了解到年纪为26岁的刘女士举报说她在使用了该产品后出现脸部红肿的现象。\\\n",
    "召回生产批号/批次为2020-04-05、规格为100只装170ml的井甜加厚航空杯产品，涉及数量为780袋。\\\n",
    "当时室内温度y有37.5摄氏度，湿度为60%RH，其表面较为粗糙，但是它也有点光滑，不是很稳定，在高温下容易被什么东西腐蚀')"
   ],
   "outputs": [
    {
     "output_type": "stream",
     "name": "stdout",
     "text": [
      "消费者年龄： 26\n",
      "性别： 女\n",
      "尺寸： 100只装170ml\n",
      "数量： 780\n",
      "温度： 37.5\n",
      "湿度： 60\n"
     ]
    }
   ],
   "metadata": {}
  },
  {
   "cell_type": "code",
   "execution_count": 14,
   "source": [
    "cl.save_jsonf(str(cesTok(content[17], tasks=['tok','ner'])))"
   ],
   "outputs": [],
   "metadata": {}
  },
  {
   "cell_type": "code",
   "execution_count": 6,
   "source": [
    "print(content[4])"
   ],
   "outputs": [
    {
     "output_type": "stream",
     "name": "stdout",
     "text": [
      "大众汽车（中国）销售有限公司、一汽-大众汽车有限公司决定自2021年6月15日起召回以下车辆。 （一）大众汽车（中国）销售有限公司 召回2020年10月25日至2020年11月30日期间生产的部分进口2021年款宾利添越V8汽车，共计7台。  （二）一汽-大众汽车有限公司 召回2020年10月8日生产的部分进口2021年款奥迪S8系列汽车，共计1台。  本次召回范围内的车辆使用了供应商在特定时间段内生产的V8发动机，由于缸体铸造阶段的模压偏差，第6缸缸壁处可能存在裂隙，造成发动机运转时第6缸缸体破损。发动机损坏后，可能导致发动机熄火并失去驱动力同时泄漏的机油如果接触到下方的排气管，不排除起火的可能性，存在安全隐患。 大众汽车（中国）销售有限公司及一汽-大众汽车有限公司将通过授权经销商，免费为召回范围内的车辆更换发动机总成，以消除安全隐患。 应急处置措施车辆召回维修前，用户如果察觉到发动机出现异常噪音或振动，应立即联系就近的授权经销商对车辆进行检查和处理。 大众汽车（中国）销售有限公司、一汽-大众汽车有限公司\n"
     ]
    }
   ],
   "metadata": {}
  },
  {
   "cell_type": "code",
   "execution_count": 25,
   "source": [
    "from src.complex_sentence import TextMining\n",
    "handler = TextMining(content)\n",
    "handler.process_mongonews()\n",
    "handler.write_res()"
   ],
   "outputs": [],
   "metadata": {}
  },
  {
   "cell_type": "code",
   "execution_count": 1,
   "source": [
    "# -*- coding:utf-8 -*-\n",
    "# Author: hankcs\n",
    "# Date: 2020-12-31 14:23\n",
    "import hanlp\n",
    "\n",
    "split_sent = hanlp.load(hanlp.pretrained.eos.UD_CTB_EOS_MUL)\n",
    "output = split_sent('3.14 is pi. “你好！！！”——他说。劇場版「Fate/stay night [HF]」最終章公開カウントダウン！')\n",
    "print('\\n'.join(output))\n",
    "# See also https://hanlp.hankcs.com/docs/api/hanlp/components/eos.html"
   ],
   "outputs": [
    {
     "output_type": "stream",
     "name": "stderr",
     "text": [
      "Downloading https://file.hankcs.com/hanlp/eos/eos_ud_ctb_mul_20201222_133543.zip to D:\\SoftWaresProGram\\data\\hanlp\\hanlp\\eos\\eos_ud_ctb_mul_20201222_133543.zip\n",
      "100%   5.4 MiB   3.0 MiB/s ETA:  0 s [=========================================]\n",
      "Decompressing D:\\SoftWaresProGram\\data\\hanlp\\hanlp\\eos\\eos_ud_ctb_mul_20201222_133543.zip to D:\\SoftWaresProGram\\data\\hanlp\\hanlp\\eos\n"
     ]
    },
    {
     "output_type": "stream",
     "name": "stdout",
     "text": [
      "3.14 is pi.\n",
      "“你好！！！”——他说。\n",
      "劇場版「Fate/stay night [HF]」最終章公開カウントダウン！\n"
     ]
    }
   ],
   "metadata": {}
  }
 ],
 "metadata": {
  "orig_nbformat": 4,
  "language_info": {
   "name": "python",
   "version": "3.8.11",
   "mimetype": "text/x-python",
   "codemirror_mode": {
    "name": "ipython",
    "version": 3
   },
   "pygments_lexer": "ipython3",
   "nbconvert_exporter": "python",
   "file_extension": ".py"
  },
  "kernelspec": {
   "name": "python3",
   "display_name": "Python 3.8.11 64-bit"
  },
  "interpreter": {
   "hash": "d02a8bccd6b6ef64580a3afac04ceefdd3aab8be3bbb790b1cd8a7203cdbc30a"
  }
 },
 "nbformat": 4,
 "nbformat_minor": 2
}